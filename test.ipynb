{
 "cells": [
  {
   "cell_type": "code",
   "execution_count": 14,
   "id": "e25b6813-8673-4650-8749-d6644b79a402",
   "metadata": {
    "tags": []
   },
   "outputs": [
    {
     "data": {
      "text/plain": [
       "[{'experiment_id': '2', 'user_id': 2, 'permission': 'MANAGE'}]"
      ]
     },
     "execution_count": 14,
     "metadata": {},
     "output_type": "execute_result"
    }
   ],
   "source": [
    "from mlstudio_sdk.config import Config\n",
    "import psycopg2\n",
    "\n",
    "config = Config()\n",
    "\n",
    "# def get_experiments_by(user_name) :\n",
    "#     #establishing the connection\n",
    "#     conn = psycopg2.connect(config.get_mlflow_tracking_auth_uri())\n",
    "\n",
    "#     #Setting auto commit false\n",
    "#     conn.autocommit = True\n",
    "\n",
    "#     #Creating a cursor object using the cursor() method\n",
    "#     cursor = conn.cursor()\n",
    "\n",
    "#     sql = f\"\"\"\n",
    "#     SELECT id FROM users\n",
    "#     WHERE username='{user_name}'\n",
    "#     \"\"\"\n",
    "\n",
    "#     #Doping EMPLOYEE table if already exists.\n",
    "#     cursor.execute(sql)\n",
    "\n",
    "#     # publisher_records = cursor.fetchall()\n",
    "#     publisher_records = list(cursor.fetchone())\n",
    "#     print(publisher_records)\n",
    "    \n",
    "#     #Commit your changes in the database\n",
    "#     conn.commit()\n",
    "    \n",
    "#     #Closing the connection\n",
    "#     conn.close()\n",
    "\n",
    "def get_experiment_permissions(user_name) :\n",
    "    #establishing the connection\n",
    "    conn = psycopg2.connect(config.get_mlflow_tracking_auth_uri())\n",
    "    \n",
    "    sql = f\"\"\"\n",
    "    SELECT  experiment_id,\n",
    "        user_id,\n",
    "        permission\n",
    "    FROM   experiment_permissions experiments\n",
    "    INNER JOIN (\n",
    "        SELECT  id\n",
    "        FROM    users\n",
    "        WHERE   username='{user_name}'\n",
    "    ) users\n",
    "    ON experiments.user_id = users.id\n",
    "    \"\"\"\n",
    "    \n",
    "    cursor = conn.cursor()\n",
    "    cursor.execute(sql)\n",
    "    records = cursor.fetchall()\n",
    "    \n",
    "    rtn = []\n",
    "    for r in records:\n",
    "        temp = list(r)\n",
    "        rtn.append({\n",
    "            'experiment_id' : temp[0],\n",
    "            'user_id' : temp[1],\n",
    "            'permission' : temp[2],\n",
    "        })\n",
    "    \n",
    "    #Closing the connection\n",
    "    conn.close()\n",
    "    \n",
    "    return rtn\n",
    "\n",
    "\n",
    "def get_experiments_by_permission(user_name) :\n",
    "    \n",
    "    permissions = get_experiment_permissions(user_name)\n",
    "    conn = psycopg2.connect(config.get_mlflow_tracking_uri())\n",
    "\n",
    "    if len(permissions) < 1:\n",
    "        return None\n",
    "    \n",
    "    for p in permissions:\n",
    "        p.experiment_id\n",
    "    \n",
    "    sql = f\"\"\"\n",
    "    SELECT *\n",
    "    FROM experiments\n",
    "    WHERE experiment_id In ({});\n",
    "    \"\"\"\n",
    "\n",
    "    cursor = conn.cursor()\n",
    "    cursor.execute(sql)\n",
    "\n",
    "    # publisher_records = cursor.fetchall()\n",
    "    publisher_records = list(cursor.fetchone())\n",
    "    print(publisher_records)\n",
    "\n",
    "    #Commit your changes in the database\n",
    "    conn.commit()\n",
    "\n",
    "    #Closing the connection\n",
    "    conn.close()\n",
    "\n"
   ]
  },
  {
   "cell_type": "code",
   "execution_count": 18,
   "id": "94ab4832-7c98-4adf-8934-4a7acfa63d1a",
   "metadata": {
    "tags": []
   },
   "outputs": [
    {
     "name": "stdout",
     "output_type": "stream",
     "text": [
      "123\n"
     ]
    }
   ],
   "source": [
    "t = ['1','2','3']\n",
    "print(''.join(t))"
   ]
  }
 ],
 "metadata": {
  "kernelspec": {
   "display_name": "Python 3 (ipykernel)",
   "language": "python",
   "name": "python3"
  },
  "language_info": {
   "codemirror_mode": {
    "name": "ipython",
    "version": 3
   },
   "file_extension": ".py",
   "mimetype": "text/x-python",
   "name": "python",
   "nbconvert_exporter": "python",
   "pygments_lexer": "ipython3",
   "version": "3.11.7"
  }
 },
 "nbformat": 4,
 "nbformat_minor": 5
}
